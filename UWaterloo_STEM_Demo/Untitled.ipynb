{
 "cells": [
  {
   "cell_type": "code",
   "execution_count": 4,
   "metadata": {},
   "outputs": [
    {
     "ename": "ModuleNotFoundError",
     "evalue": "No module named 'flask_bootstrap'",
     "output_type": "error",
     "traceback": [
      "\u001b[1;31m---------------------------------------------------------------------------\u001b[0m",
      "\u001b[1;31mModuleNotFoundError\u001b[0m                       Traceback (most recent call last)",
      "\u001b[1;32m<ipython-input-4-9a839effe4cc>\u001b[0m in \u001b[0;36m<module>\u001b[1;34m()\u001b[0m\n\u001b[0;32m      2\u001b[0m \u001b[1;32mfrom\u001b[0m \u001b[0mapp\u001b[0m \u001b[1;32mimport\u001b[0m \u001b[0mapp\u001b[0m\u001b[1;33m\u001b[0m\u001b[0m\n\u001b[0;32m      3\u001b[0m \u001b[1;32mfrom\u001b[0m \u001b[0mapp\u001b[0m\u001b[1;33m.\u001b[0m\u001b[0mforms\u001b[0m \u001b[1;32mimport\u001b[0m \u001b[0mInfoForm\u001b[0m\u001b[1;33m\u001b[0m\u001b[0m\n\u001b[1;32m----> 4\u001b[1;33m \u001b[1;32mfrom\u001b[0m \u001b[0mflask_bootstrap\u001b[0m \u001b[1;32mimport\u001b[0m \u001b[0mBootstrap\u001b[0m\u001b[1;33m\u001b[0m\u001b[0m\n\u001b[0m\u001b[0;32m      5\u001b[0m \u001b[1;32mfrom\u001b[0m \u001b[0mrandom\u001b[0m \u001b[1;32mimport\u001b[0m \u001b[0mrandrange\u001b[0m \u001b[1;31m#for testing- TO BE DELETED\u001b[0m\u001b[1;33m\u001b[0m\u001b[0m\n\u001b[0;32m      6\u001b[0m \u001b[1;32mimport\u001b[0m \u001b[0mcsv\u001b[0m\u001b[1;33m,\u001b[0m \u001b[0msys\u001b[0m\u001b[1;33m\u001b[0m\u001b[0m\n",
      "\u001b[1;31mModuleNotFoundError\u001b[0m: No module named 'flask_bootstrap'"
     ]
    }
   ],
   "source": [
    "from flask import Flask, render_template, flash, redirect, request\n",
    "from app import app\n",
    "from app.forms import InfoForm\n",
    "from flask_bootstrap import Bootstrap\n",
    "from random import randrange #for testing- TO BE DELETED\n",
    "import csv, sys\n",
    "from app.clusters import Cluster\n",
    "\n",
    "\n",
    "\n",
    "app = Flask(__name__, template_folder='templates')\n",
    "Bootstrap(app)\n",
    "app.config['SECRET_KEY'] = 'asecretkey'\n",
    "\n",
    "@app.route('/', methods=['GET', 'POST'])\n",
    "def home():\n",
    "    form = InfoForm()\n",
    "    myCluster = Cluster(6)\n",
    "    inputs = []\n",
    "    clusterNum = 6\n",
    "    clusterName = myCluster.getInfo()[1]\n",
    "    clusterSpider = \"static/images/problem.png\"\n",
    "    clusterStats =  \"static/images/problem.png\"\n",
    "\n",
    "\n",
    "    if form.validate_on_submit():\n",
    "        inputs.extend((form.year.data, form.program.data, form.salaryFirst.data, form.salaryLast.data, form.firstEval.data,\n",
    "        form.lastEval.data, form.coopTerms.data, form.uniAvg.data, form.hsAvg.data, form.uniYears.data, form.gender.data, form.stem.data))\n",
    "        inputs = toInt(inputs)\n",
    "        flash('Data entered {}'.format(inputs))\n",
    "        clusterNum = puesdoModel(inputs) #returns a number between 1 and 6\n",
    "        clusterInfo = gatherFiles(clusterNum)\n",
    "        clusterName = clusterInfo[1]\n",
    "        clusterSpider = \"static/images/\" + clusterInfo[2]\n",
    "        clusterStats = \"static/images/\" + clusterInfo[3]\n",
    "    return render_template(\"indexTEST.html\", title = 'UWaterloo Demo', myCluster = myCluster, form=form, input=inputs, clusterNum=clusterNum,\n",
    "    clusterName = clusterName, clusterSpider = clusterSpider, clusterStats = clusterStats)\n",
    "\n",
    "@app.route('/about', methods=['GET'])\n",
    "def about():\n",
    "    return render_template(\"aboutproject.html\", title= \"About This Project\")\n",
    "\n",
    "\n",
    "@app.route('/result', methods=['GET', 'POST'])\n",
    "\n",
    "#gather graphics file names based on cluster\n",
    "def gatherFiles (clusterNum):\n",
    "    f = open(\"static/data/graphics_files.csv\", \"rb\")\n",
    "    reader = csv.reader(f, delimiter = \",\")\n",
    "    data = list(reader)\n",
    "    data = data[clusterNum]\n",
    "    f.close()\n",
    "    return data\n",
    "#covnert string list to int list\n",
    "def toInt(strList):\n",
    "    for i in range(len(strList)):\n",
    "        strList[i] = int(strList[i])\n",
    "    return strList\n",
    "\n",
    "# fake model function\n",
    "def puesdoModel(list):\n",
    "    x = randrange(6)\n",
    "    x = x+1\n",
    "    flash(x)\n",
    "    return x\n",
    "# def results(inputs):\n",
    "#     results = request.form\n",
    "#     print results\n",
    "if __name__ == \"__main__\":\n",
    "    app.run(debug=True, port=9999)\n"
   ]
  },
  {
   "cell_type": "code",
   "execution_count": null,
   "metadata": {},
   "outputs": [],
   "source": []
  }
 ],
 "metadata": {
  "kernelspec": {
   "display_name": "Python 3",
   "language": "python",
   "name": "python3"
  },
  "language_info": {
   "codemirror_mode": {
    "name": "ipython",
    "version": 3
   },
   "file_extension": ".py",
   "mimetype": "text/x-python",
   "name": "python",
   "nbconvert_exporter": "python",
   "pygments_lexer": "ipython3",
   "version": "3.7.0"
  }
 },
 "nbformat": 4,
 "nbformat_minor": 2
}
