{
 "cells": [
  {
   "cell_type": "code",
   "execution_count": 338,
   "metadata": {},
   "outputs": [],
   "source": [
    "import numpy as np \n",
    "import pandas as pd \n",
    "import seaborn as sns\n",
    "import matplotlib.pyplot as plt \n",
    "import math\n",
    "#import Kmeans algorithm from sci kit learn library\n",
    "from sklearn.cluster import KMeans\n",
    "#import scaler package for standardizing values\n",
    "from sklearn.preprocessing import StandardScaler\n",
    "import random\n",
    "% matplotlib inline"
   ]
  },
  {
   "cell_type": "markdown",
   "metadata": {},
   "source": [
    "# Receive user input"
   ]
  },
  {
   "cell_type": "code",
   "execution_count": 339,
   "metadata": {},
   "outputs": [],
   "source": [
    "demo_raw = [4,0,0,0,3,3,4,7,6,3,0,0]"
   ]
  },
  {
   "cell_type": "markdown",
   "metadata": {},
   "source": [
    "# Import All Files"
   ]
  },
  {
   "cell_type": "code",
   "execution_count": 340,
   "metadata": {},
   "outputs": [],
   "source": [
    "def import_tables():\n",
    "    demo_lookup = pd.read_csv('lookup_matrix.csv')\n",
    "    grades_lookup = pd.read_csv('grades_lookup.csv')\n",
    "    demo_lookup = demo_lookup.drop('Index ', axis = 1)\n",
    "    total_output = pd.read_csv(\"Design thinking clusters flat file v4.csv\")\n",
    "    flat = pd.read_csv('Full_Flat_File.csv')\n",
    "    CPI = pd.read_csv('CPI.csv')\n",
    "    \n",
    "    return demo_lookup, grades_lookup, demo_lookup, total_output, flat, CPI"
   ]
  },
  {
   "cell_type": "code",
   "execution_count": 341,
   "metadata": {},
   "outputs": [],
   "source": [
    "demo_lookup, grades_lookup, demo_lookup, total_output, flat, CPI = import_tables()"
   ]
  },
  {
   "cell_type": "markdown",
   "metadata": {},
   "source": [
    "# Clean Up"
   ]
  },
  {
   "cell_type": "code",
   "execution_count": 342,
   "metadata": {},
   "outputs": [],
   "source": [
    "#Function that Turns input into readable values\n",
    "def input_convert(demo_raw):\n",
    "    demo_input = []\n",
    "    i = 0\n",
    "    for value in demo_raw:\n",
    "        value = demo_lookup.iloc[value, i]\n",
    "        demo_input.append(value)\n",
    "        i += 1 \n",
    "    return demo_input \n",
    "    "
   ]
  },
  {
   "cell_type": "code",
   "execution_count": 343,
   "metadata": {},
   "outputs": [],
   "source": [
    "demo_input = input_convert(demo_raw)"
   ]
  },
  {
   "cell_type": "code",
   "execution_count": 344,
   "metadata": {},
   "outputs": [],
   "source": [
    "#function that converts all values to list for clustering \n",
    "def values_convert(demo_input):\n",
    "    \n",
    "    #initiate empty list\n",
    "    demo_input_clean = []\n",
    "    #year equal to input\n",
    "    year = demo_input[0]\n",
    "\n",
    "    #program equal to input\n",
    "    prog = demo_input[1]\n",
    "    #provide random student number\n",
    "    std_no = random.randint(1,1000)\n",
    "    #take the mean of the range for co-op salalry\n",
    "    adj_ann_salary_hrlyfirst = (int(demo_input[2].split(\"-\")[0]) + int(demo_input[2].split(\"-\")[1]))/2\n",
    "\n",
    "    adj_ann_salary_hrlylast = (int(demo_input[3].split(\"-\")[0]) + int(demo_input[3].split(\"-\")[1]))/2\n",
    "    \n",
    "    #take raw perf eval\n",
    "    perf_eval_convfirst = int(demo_input[4])\n",
    "\n",
    "    perf_eval_convlast = int(demo_input[5])\n",
    "    #student eval is the average of the two perf eval \n",
    "    stud_eval_convfirst= (perf_eval_convfirst + perf_eval_convlast)/2\n",
    "    stud_eval_convlast= (perf_eval_convfirst + perf_eval_convlast)/2\n",
    "    #take raw \n",
    "    no_terms = int(demo_input[6])\n",
    "\n",
    "    # take average of range of uni marks \n",
    "    if demo_input[7] == '<50':\n",
    "        u_avg = 50\n",
    "    elif demo_input[7] == '95+':\n",
    "        u_avg = 97.5\n",
    "    else:\n",
    "        u_avg = (int(demo_input[7].split(\"-\")[0]) + int(demo_input[7].split(\"-\")[1]))/2\n",
    "    # do same for high school \n",
    "    if demo_input[8] == '<50':\n",
    "        h_avg = 50\n",
    "    elif demo_input[8] == '95+':\n",
    "        h_avg = 97.5\n",
    "    else:\n",
    "        h_avg = (int(demo_input[8].split(\"-\")[0]) + int(demo_input[8].split(\"-\")[1]))/2\n",
    "        \n",
    "    # of terms is the years multiplied by 2\n",
    "    no_acad_terms = demo_input[9] * 2\n",
    "    gen_ind = demo_input[10]\n",
    "    stem_ind = demo_input[11]\n",
    "\n",
    "    # lookup the average grade of that program, for the expected average\n",
    "    exp_u_avg = pd.merge(pd.DataFrame(demo_input).transpose(), grades_lookup, 'inner',\n",
    "                     left_on = 1, right_on = 'acad_plan_descr')['course_average_grade5'][0]\n",
    "    #divide user average by expected average to get ratio\n",
    "    \n",
    "    c_avg_r = u_avg / exp_u_avg\n",
    "\n",
    "    #elective equal to cor for simplicity\n",
    "    e_avg_r = c_avg_r\n",
    "    \n",
    "    #take average high school to uni ratio\n",
    "    avg_u_diff = (total_output['Core_Average'] /total_output['Entrace_Average_Ratio']).mean()\n",
    "\n",
    "    #apply to hs average \n",
    "    h_avg_r = c_avg_r * avg_u_diff\n",
    "    \n",
    "    #create list\n",
    "    demo_input_clean.extend([year, std_no, adj_ann_salary_hrlyfirst, adj_ann_salary_hrlylast, perf_eval_convfirst, perf_eval_convlast, no_terms,\n",
    "                             stud_eval_convfirst, stud_eval_convlast, c_avg_r, e_avg_r, no_acad_terms, h_avg_r, gen_ind, stem_ind])\n",
    "\n",
    "    return demo_input_clean, std_no\n",
    "    "
   ]
  },
  {
   "cell_type": "code",
   "execution_count": 345,
   "metadata": {},
   "outputs": [],
   "source": [
    "demo_input_clean, std_no = values_convert(demo_input)"
   ]
  },
  {
   "cell_type": "code",
   "execution_count": 347,
   "metadata": {},
   "outputs": [],
   "source": [
    "#function takes clean input, and converts to final dataframe \n",
    "def cluster_input_convert(demo_input_clean):\n",
    "    demo_list = ['calendar_year','STUDENT_KEY','adj_ann_salary_hrlyfirst',\n",
    "                 'adj_ann_salary_hrlylast','perf_eval_convfirst','perf_eval_convlast',\n",
    "         'Uw Co Job Eval Stufirst',\n",
    "         'Uw Co Job Eval Stulast',\n",
    "         'Uw Co Wt Session',\n",
    "         'Core_Average',\n",
    "         'Elective_Average',\n",
    "         'Academic_Terms',\n",
    "         'Entrace_Average_Ratio',\n",
    "         'Female_Ind', 'STEM_Ind']\n",
    "\n",
    "    demo_df = pd.DataFrame(demo_input_clean).transpose()\n",
    "    demo_df.columns = demo_list           \n",
    "    return demo_df "
   ]
  },
  {
   "cell_type": "code",
   "execution_count": 348,
   "metadata": {},
   "outputs": [],
   "source": [
    "demo_df = cluster_input_convert(demo_input_clean)"
   ]
  },
  {
   "cell_type": "code",
   "execution_count": 349,
   "metadata": {},
   "outputs": [],
   "source": [
    "def salary_adj(demo_df):\n",
    "    demo_df = pd.merge(demo_df, CPI, 'inner', 'calendar_year')\n",
    "    demo_df['adj_ann_salary_hrlyfirst'] = (demo_df['adj_ann_salary_hrlyfirst'] * 133.4) /demo_df['CPI']\n",
    "    demo_df['adj_ann_salary_hrlylast'] = (demo_df['adj_ann_salary_hrlylast'] * 133.4) /demo_df['CPI']\n",
    "    demo_df_adj = demo_df.drop(['calendar_year', 'CPI'], axis = 1)\n",
    "    return demo_df_adj"
   ]
  },
  {
   "cell_type": "code",
   "execution_count": 350,
   "metadata": {},
   "outputs": [],
   "source": [
    "demo_df_adj = salary_adj(demo_df)"
   ]
  },
  {
   "cell_type": "code",
   "execution_count": 351,
   "metadata": {},
   "outputs": [],
   "source": [
    "def cluster_input_final(demo_df_adj):\n",
    "    clust_list = ['STUDENT_KEY','adj_ann_salary_hrlyfirst',\n",
    " 'adj_ann_salary_hrlylast',\n",
    " 'perf_eval_convfirst',\n",
    " 'perf_eval_convlast',\n",
    " 'Uw Co Job Eval Stufirst',\n",
    " 'Uw Co Job Eval Stulast',\n",
    " 'Uw Co Wt Session',\n",
    " 'Core_Average',\n",
    " 'Elective_Average',\n",
    " 'Academic_Terms',\n",
    " 'Entrace_Average_Ratio',\n",
    " 'Female_Ind', 'STEM_Ind']\n",
    "    flat_final = flat[clust_list]\n",
    "    flat_final = flat_final.append(demo_df_adj).reset_index(drop = True)\n",
    "    attr_list = list(flat_final.drop(['STUDENT_KEY'], axis =1))\n",
    "    full_flat_no_na = flat_final.dropna()\n",
    "    return attr_list, full_flat_no_na\n",
    "    "
   ]
  },
  {
   "cell_type": "code",
   "execution_count": 352,
   "metadata": {},
   "outputs": [],
   "source": [
    "attr_list, df = cluster_input_final(demo_df_adj)"
   ]
  },
  {
   "cell_type": "markdown",
   "metadata": {},
   "source": [
    "# Clustering Variable Combinations"
   ]
  },
  {
   "cell_type": "code",
   "execution_count": 353,
   "metadata": {},
   "outputs": [],
   "source": [
    "#Function that takes in a subset of data, number of clusters,  and scales the data, runs kmeans, and returns dataframe & centroids \n",
    "def cluster(n, col_list, df): \n",
    "    #perform analysis on copy of original dataset \n",
    "    df_copy = df.copy(deep = True)\n",
    "    #create subset of dataset based on list \n",
    "    c_df = df_copy[col_list]\n",
    "    #initiate kmeans based on number of clusters chosen \n",
    "    km = KMeans(n_clusters= n)\n",
    "    #initiate scaler\n",
    "    scaler = StandardScaler()\n",
    "    #fit scaler to data \n",
    "    scaled = scaler.fit(c_df)\n",
    "    #transform the data\n",
    "    df_scale = pd.DataFrame(scaled.transform(c_df), columns = list(c_df))\n",
    "    #fit kmeans to the data\n",
    "    km.fit(df_scale)\n",
    "    #create column in dataframe with cluster numbrs \n",
    "    c_df['cluster'] = km.labels_\n",
    "    return c_df   "
   ]
  },
  {
   "cell_type": "markdown",
   "metadata": {},
   "source": [
    "# Cluster"
   ]
  },
  {
   "cell_type": "code",
   "execution_count": 354,
   "metadata": {},
   "outputs": [],
   "source": [
    "def user_cluster():\n",
    "    clustered = cluster(6, attr_list, df)\n",
    "    centroids = clustered.groupby('cluster').mean()\n",
    "    clustered['STUDENT_KEY'] = df['STUDENT_KEY']\n",
    "    clustered['cluster'] = clustered['cluster'] +1\n",
    "    final_df = centroids.reset_index()\n",
    "    final_df['cluster'] = final_df['cluster'] +1\n",
    "    final_df['metric'] = final_df['adj_ann_salary_hrlyfirst']+ final_df['adj_ann_salary_hrlylast'] + final_df['perf_eval_convfirst']+ final_df['perf_eval_convlast']+final_df['Core_Average'] +final_df['Uw Co Wt Session']\n",
    "    final_df = final_df.sort_values('metric', ascending = False)\n",
    "    clust_names = ['The Gold Standards', 'The High Potentials', 'The Experience Seekers', 'Intrinsic Go Getter', 'The Participators', 'The Low Performers']\n",
    "    clust_number = [4,6,2,5,1,3 ]\n",
    "    final_df['clust_names']= clust_names\n",
    "    final_df['clust_num'] = clust_number\n",
    "    user_cluster = (clustered[clustered['STUDENT_KEY'] == std_no]['cluster'])[clustered[clustered['STUDENT_KEY'] == std_no].index[0]]\n",
    "    clust_name = final_df[final_df['cluster'] == user_cluster].reset_index()['clust_names'][0]\n",
    "    clust_num = final_df[final_df['cluster'] == user_cluster].reset_index()['clust_num'][0]\n",
    "    return clust_name, clust_num, final_df"
   ]
  },
  {
   "cell_type": "code",
   "execution_count": 355,
   "metadata": {},
   "outputs": [
    {
     "name": "stdout",
     "output_type": "stream",
     "text": [
      "Your cluster number is 1!\n",
      "Your cluster is the The Participators!\n"
     ]
    }
   ],
   "source": [
    "name, number, centroids = user_cluster()\n",
    "print (\"Your cluster number is %s!\" % number)\n",
    "print (\"Your cluster is the %s!\" % name)\n"
   ]
  },
  {
   "cell_type": "code",
   "execution_count": 356,
   "metadata": {},
   "outputs": [],
   "source": [
    "\n",
    "#This combination with 6 clusters proved to be the most meaningful. 4 clusters did not tell the entire story, and it was difficult\n",
    "#to make clear distinctionss between all eight clusters. \n",
    "#This analysis made it clear that\n",
    "#1) there are stem females who earn very little but do well in school\n",
    "#2) the group of stem males that does well across the board is male \n",
    "#''''"
   ]
  }
 ],
 "metadata": {
  "kernelspec": {
   "display_name": "Python 3",
   "language": "python",
   "name": "python3"
  },
  "language_info": {
   "codemirror_mode": {
    "name": "ipython",
    "version": 3
   },
   "file_extension": ".py",
   "mimetype": "text/x-python",
   "name": "python",
   "nbconvert_exporter": "python",
   "pygments_lexer": "ipython3",
   "version": "3.7.0"
  }
 },
 "nbformat": 4,
 "nbformat_minor": 2
}
