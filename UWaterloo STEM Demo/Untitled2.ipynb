{
 "cells": [
  {
   "cell_type": "code",
   "execution_count": 1,
   "metadata": {},
   "outputs": [
    {
     "name": "stderr",
     "output_type": "stream",
     "text": [
      "C:\\Users\\josh.a.peters\\AppData\\Local\\Continuum\\anaconda3\\lib\\site-packages\\sklearn\\base.py:251: UserWarning: Trying to unpickle estimator KMeans from version 0.19.2 when using version 0.20.1. This might lead to breaking code or invalid results. Use at your own risk.\n",
      "  UserWarning)\n"
     ]
    }
   ],
   "source": [
    "from flask import Flask, render_template, flash, redirect, request\n",
    "from app import app\n",
    "from app.forms import InfoForm\n",
    "from flask_bootstrap import Bootstrap\n",
    "import csv, sys\n",
    "from app.clusters import Cluster\n",
    "from ClusterModel import master\n",
    "import time, datetime\n",
    "import json\n",
    "import pandas as pd\n",
    "\n"
   ]
  },
  {
   "cell_type": "code",
   "execution_count": null,
   "metadata": {},
   "outputs": [],
   "source": [
    "\n",
    "app = Flask(__name__, template_folder='templates')\n",
    "Bootstrap(app)\n",
    "app.config['SECRET_KEY'] = 'asecretkey'\n",
    "\n",
    "@app.route('/', methods=['GET', 'POST'])\n",
    "def home():\n",
    "    form = InfoForm()\n",
    "    return render_template(\"index.html\", title='UWaterloo Demo', form=form)\n",
    "\n",
    "#Render profile based on Model inputs, store model inputs and cluster and generate summary graph.\n",
    "@app.route('/formsubmit', methods=['GET', 'POST'])\n",
    "def formsubmit():\n",
    "\n",
    "    #form values selected from posted json data\n",
    "    inputs = request.form['data']\n",
    "    inputs = inputs.strip('\"').split(\"&\")\n",
    "    formval={};\n",
    "\n",
    "    #populate dictionary with form data\n",
    "    for i in range(len(inputs)-1):\n",
    "        formval[inputs[i+1].split(\"=\")[0]] = int(inputs[i+1].split(\"=\")[1])\n",
    "\n",
    "    modelList = [formval[\"year\"], formval[\"program\"], formval[\"salaryFirst\"], formval[\"salaryLast\"], formval[\"firstEval\"],\n",
    "    formval[\"lastEval\"], formval[\"coopTerms\"], formval[\"uniAvg\"], formval[\"hsAvg\"], formval[\"uniYears\"], formval[\"gender\"], formval[\"stem\"]]\n",
    "\n",
    "    #run the data through the model \"master\"\n",
    "    clusterNum = master(modelList)\n",
    "    #shift the cluster value based on gender to generate the right gender profile\n",
    "    profileNum = modelList[10]*6 + clusterNum\n",
    "\n",
    "    #generate the cluster object with the associated cluster values\n",
    "    myCluster = Cluster(profileNum)\n",
    "    #write the model results to a table\n",
    "    saveResults(clusterNum, modelList)\n",
    "    #generate the summary results from the table\n",
    "    graphData = clusterGraph()\n",
    "\n",
    "    total = sum(graphData)\n",
    "\n",
    "    return render_template(\"profile.html\", title='UWaterloo Demo', myCluster=myCluster, clusterGraph=graphData, total= total)\n",
    "\n",
    "#Render profile based on Cluster selection, store model inputs and cluster and generate summary graph.\n",
    "@app.route('/clusterview', methods=['GET', 'POST'])\n",
    "def clusterview():\n",
    "    #cluster profile selected from posted json data\n",
    "    data = request.form['data']\n",
    "    clusterNum = int(data.strip('\"'))\n",
    "\n",
    "    #generate the cluster object with the associated cluster values\n",
    "    myCluster = Cluster(clusterNum)\n",
    "\n",
    "    #generate the summary results from the table\n",
    "    graphData = clusterGraph()\n",
    "    total = sum(graphData)\n",
    "\n",
    "    return render_template(\"profile.html\", title='UWaterloo Demo', myCluster=myCluster, clusterGraph=graphData, total= total)\n",
    "#lookup actual value using numeric values\n",
    "def lookupValue(modelList):\n",
    "    data = pd.read_csv(\"static/data/lookup_matrix.txt\", names=list(range(13)), delimiter=\"\\t\", encoding=\"cp1252\", header=None)\n",
    "    formInputs = [(data.iat[(modelList[i])+1,(i+1)]) for i in range(len(modelList))]\n",
    "    return formInputs\n",
    "\n",
    "#write data results to a table\n",
    "def saveResults(cluster, data):\n",
    "    curTime =  time.time()\n",
    "    timestamp =  datetime.datetime.fromtimestamp(curTime).strftime('%Y-%m-%d %H:%M:%S')\n",
    "    dataEntry = [timestamp, cluster] + lookupValue(data)\n",
    "    print(dataEntry)\n",
    "    with open('static/data/Model_Results.csv', 'a') as csvFile:\n",
    "        writer = csv.writer(csvFile)\n",
    "        writer.writerow(dataEntry)\n",
    "    return dataEntry\n",
    "\n",
    "#generate summary data from table\n",
    "def clusterGraph():\n",
    "    modelData = pd.read_csv(\"static/data/Model_Results.csv\")\n",
    "    counts = modelData.Cluster.value_counts()\n",
    "\n",
    "    keys = counts.keys().tolist()\n",
    "    data = counts.tolist()\n",
    "\n",
    "    clusterGraph = [0,0,0,0,0,0]\n",
    "\n",
    "    for i in range(len(keys)):\n",
    "        val = keys[i]\n",
    "        clusterGraph[val-1] += data[i]\n",
    "\n",
    "    return clusterGraph\n",
    "\n",
    "#gather graphics file names based on cluster\n",
    "def gatherFiles (clusterNum):\n",
    "    f = open(\"static/data/graphics_files.csv\", \"rb\")\n",
    "    reader = csv.reader(f, delimiter = \",\")\n",
    "    data = list(reader)\n",
    "    data = data[clusterNum]\n",
    "    f.close()\n",
    "    return data\n",
    "\n",
    "#covnert string list to int list\n",
    "def toInt(strList):\n",
    "    for i in range(len(strList)):\n",
    "        strList[i] = int(strList[i])\n",
    "    return strList\n",
    "\n",
    "if __name__ == \"__main__\":\n",
    "    app.run(debug=True, port=8080)\n"
   ]
  },
  {
   "cell_type": "code",
   "execution_count": 2,
   "metadata": {},
   "outputs": [],
   "source": [
    "modelData = pd.read_csv(\"static/data/Model_Results.csv\")\n",
    "counts = modelData.Cluster.value_counts()\n"
   ]
  },
  {
   "cell_type": "code",
   "execution_count": 3,
   "metadata": {},
   "outputs": [
    {
     "data": {
      "text/plain": [
       "1.0    58\n",
       "4.0    27\n",
       "6.0    13\n",
       "2.0     7\n",
       "3.0     5\n",
       "5.0     4\n",
       "Name: Cluster, dtype: int64"
      ]
     },
     "execution_count": 3,
     "metadata": {},
     "output_type": "execute_result"
    }
   ],
   "source": [
    "counts"
   ]
  },
  {
   "cell_type": "code",
   "execution_count": 13,
   "metadata": {},
   "outputs": [],
   "source": [
    "keys = counts.keys().tolist()"
   ]
  },
  {
   "cell_type": "code",
   "execution_count": 14,
   "metadata": {},
   "outputs": [
    {
     "data": {
      "text/plain": [
       "[1.0, 4.0, 6.0, 2.0, 3.0, 5.0]"
      ]
     },
     "execution_count": 14,
     "metadata": {},
     "output_type": "execute_result"
    }
   ],
   "source": [
    "keys"
   ]
  },
  {
   "cell_type": "code",
   "execution_count": 12,
   "metadata": {},
   "outputs": [
    {
     "data": {
      "text/plain": [
       "[1, 4, 6, 2, 3, 5]"
      ]
     },
     "execution_count": 12,
     "metadata": {},
     "output_type": "execute_result"
    }
   ],
   "source": [
    "keys = pd.DataFrame(counts).reset_index()['index'].astype(int).tolist()"
   ]
  },
  {
   "cell_type": "code",
   "execution_count": null,
   "metadata": {},
   "outputs": [],
   "source": [
    "\n",
    "keys = counts.keys().tolist()\n",
    "data = counts.tolist()\n",
    "\n",
    "clusterGraph = [0,0,0,0,0,0]\n",
    "\n",
    "for i in range(len(keys)):\n",
    "    val = keys[i]\n",
    "    clusterGraph[val-1] += data[i]\n",
    "\n",
    "return clusterGraph"
   ]
  }
 ],
 "metadata": {
  "kernelspec": {
   "display_name": "Python 3",
   "language": "python",
   "name": "python3"
  },
  "language_info": {
   "codemirror_mode": {
    "name": "ipython",
    "version": 3
   },
   "file_extension": ".py",
   "mimetype": "text/x-python",
   "name": "python",
   "nbconvert_exporter": "python",
   "pygments_lexer": "ipython3",
   "version": "3.7.1"
  }
 },
 "nbformat": 4,
 "nbformat_minor": 2
}
