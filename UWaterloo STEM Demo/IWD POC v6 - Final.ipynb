{
 "cells": [
  {
   "cell_type": "code",
   "execution_count": 10,
   "metadata": {},
   "outputs": [],
   "source": [
    "import numpy as np \n",
    "import pandas as pd \n",
    "import seaborn as sns\n",
    "import matplotlib.pyplot as plt \n",
    "import math\n",
    "#import Kmeans algorithm from sci kit learn library\n",
    "from sklearn.cluster import KMeans\n",
    "#import scaler package for standardizing values\n",
    "from sklearn.preprocessing import StandardScaler\n",
    "import random\n",
    "import pickle"
   ]
  },
  {
   "cell_type": "markdown",
   "metadata": {},
   "source": [
    "# Receive user input"
   ]
  },
  {
   "cell_type": "code",
   "execution_count": 35,
   "metadata": {},
   "outputs": [],
   "source": [
    "demo_raw = [4,29,4,2,0,0,4,3,3,3,0,0]"
   ]
  },
  {
   "cell_type": "markdown",
   "metadata": {},
   "source": [
    "# Import All Files"
   ]
  },
  {
   "cell_type": "code",
   "execution_count": 36,
   "metadata": {},
   "outputs": [],
   "source": [
    "def import_tables():\n",
    "    demo_lookup = pd.read_csv('static/data/lookup_matrix_model.csv')\n",
    "    grades_lookup = pd.read_csv('static/data/grades_lookup.csv')\n",
    "    demo_lookup = demo_lookup.drop('Index ', axis = 1)\n",
    "    CPI = pd.read_csv('static/data/CPI.csv')\n",
    "    filename ='static/data/kmeans.sav'\n",
    "    loaded_model = pickle.load(open(filename, 'rb'))\n",
    "    scaled_centroids = [[ 0.32437941,  1.12257734,  0.2588833 ,  0.32028921,  0.0725123 ,\n",
    "         0.23579614,  0.71003824,  1.05484446,  0.73084281, -0.34221282,\n",
    "         0.55432142, -0.55845854,  0.54878327],\n",
    "       [ 0.10411963,  0.36533937, -0.02174797,  0.129686  ,  0.20697596,\n",
    "         0.23561598,  0.58517601, -0.69696592, -0.69679925, -0.04682907,\n",
    "        -0.53246641, -0.50689006,  0.56754547],\n",
    "       [-0.04870031, -0.39556119,  0.1940998 ,  0.22336932,  0.07399323,\n",
    "         0.11151278, -0.35188874,  0.08919388,  0.20945644, -0.17151272,\n",
    "         0.12616427,  0.62546416, -1.41803787],\n",
    "       [-0.25796409, -0.572148  ,  0.31983162,  0.30854601,  0.07988834,\n",
    "         0.11522796, -0.2137781 ,  0.6012341 ,  0.66865933, -0.29276552,\n",
    "         0.47217678,  0.60239273,  0.6965392 ],\n",
    "       [-0.09125813, -0.28960294, -0.84019045, -1.08821405, -0.78327231,\n",
    "        -1.10823508, -0.30727674, -0.2964787 , -0.27006501, -0.1538137 ,\n",
    "        -0.21722223, -0.19807773, -0.05141933],\n",
    "       [-0.18628771, -0.66517703, -0.41669787, -0.65981953,  0.04283243,\n",
    "        -0.07561226, -1.19646059, -1.19435119, -1.04092105,  2.0537728 ,\n",
    "        -0.60520237, -0.09467414,  0.06944558]]\n",
    "    scaled_centroids = np.array(scaled_centroids)\n",
    "    \n",
    "    feat_mean = [16.846483394541515,\n",
    " 23.14965325273011,\n",
    " 7.690257124322132,\n",
    " 8.198620712426731,\n",
    " 8.219276868752177,\n",
    " 8.271895359824937,\n",
    " 4.21897846521112,\n",
    " 1.0318331775145726,\n",
    " 1.0450763124069997,\n",
    " 8.612821405480679,\n",
    " 1.0076230458567204,\n",
    " 0.3792709006813548,\n",
    " 0.6678768588053912]\n",
    "    feat_sd = [3.715539667740859,\n",
    " 7.26038443604146,\n",
    " 1.5465597487835687,\n",
    " 1.5625172403190293,\n",
    " 1.1473592801297303,\n",
    " 1.2988786888679544,\n",
    " 1.3824660808932407,\n",
    " 0.10550912424275974,\n",
    " 0.09965296178360596,\n",
    " 1.2403575098722777,\n",
    " 0.04851102105645211,\n",
    " 0.4852176766600594,\n",
    " 0.4709866162364915]\n",
    "    \n",
    "    return demo_lookup, grades_lookup, demo_lookup, CPI,loaded_model, scaled_centroids, feat_mean, feat_sd"
   ]
  },
  {
   "cell_type": "code",
   "execution_count": 37,
   "metadata": {},
   "outputs": [
    {
     "name": "stderr",
     "output_type": "stream",
     "text": [
      "C:\\Users\\josh.a.peters\\AppData\\Local\\Continuum\\anaconda3\\lib\\site-packages\\sklearn\\base.py:251: UserWarning: Trying to unpickle estimator KMeans from version 0.19.2 when using version 0.20.1. This might lead to breaking code or invalid results. Use at your own risk.\n",
      "  UserWarning)\n"
     ]
    }
   ],
   "source": [
    "demo_lookup, grades_lookup, demo_lookup, CPI, loaded_model, scaled_centroids, feat_mean, feat_sd = import_tables()"
   ]
  },
  {
   "cell_type": "markdown",
   "metadata": {},
   "source": [
    "# Clean Up"
   ]
  },
  {
   "cell_type": "code",
   "execution_count": 38,
   "metadata": {},
   "outputs": [],
   "source": [
    "#Function that Turns input into readable values\n",
    "def input_convert(demo_raw):\n",
    "    demo_input = []\n",
    "    i = 0\n",
    "    for value in demo_raw:\n",
    "        value = demo_lookup.iloc[value, i]\n",
    "        demo_input.append(value)\n",
    "        i += 1 \n",
    "    return demo_input \n",
    "    "
   ]
  },
  {
   "cell_type": "code",
   "execution_count": 40,
   "metadata": {},
   "outputs": [],
   "source": [
    "demo_input = input_convert(demo_raw)"
   ]
  },
  {
   "cell_type": "code",
   "execution_count": 41,
   "metadata": {},
   "outputs": [],
   "source": [
    "#function that converts all values to list for clustering \n",
    "def values_convert(demo_input):\n",
    "    \n",
    "    #initiate empty list\n",
    "    demo_input_clean = []\n",
    "    #year equal to input\n",
    "    year = demo_input[0]\n",
    "\n",
    "    #program equal to input\n",
    "    prog = demo_input[1]\n",
    "    #provide random student number\n",
    "    std_no = random.randint(1,1000)\n",
    "    #take the mean of the range for co-op salalry\n",
    "    if demo_input[2] == \"30+\":\n",
    "        adj_ann_salary_hrlyfirst = 32.5\n",
    "    else:\n",
    "        adj_ann_salary_hrlyfirst = (int(demo_input[2].split(\"-\")[0]) + int(demo_input[2].split(\"-\")[1]))/2\n",
    "    if demo_input[3] == \"30+\":\n",
    "        adj_ann_salary_hrlylast = 32.5\n",
    "    else:\n",
    "        adj_ann_salary_hrlylast = (int(demo_input[3].split(\"-\")[0]) + int(demo_input[3].split(\"-\")[1]))/2\n",
    "    \n",
    "    #take raw perf eval\n",
    "    if demo_input[4] == '0-5':\n",
    "        perf_eval_convfirst = 2.5\n",
    "    else:\n",
    "        perf_eval_convfirst = int(demo_input[4])\n",
    "    if demo_input[5] == '0-5':\n",
    "        perf_eval_convlast = 2.5  \n",
    "    else:\n",
    "        perf_eval_convlast = int(demo_input[5])\n",
    "    #student eval is the average of the two perf eval \n",
    "    stud_eval_convfirst= (perf_eval_convfirst + perf_eval_convlast)/2\n",
    "    stud_eval_convlast= (perf_eval_convfirst + perf_eval_convlast)/2\n",
    "    #take raw \n",
    "    no_terms = int(demo_input[6])\n",
    "\n",
    "    # take average of range of uni marks \n",
    "    if demo_input[7] == '<50':\n",
    "        u_avg = 50\n",
    "    elif demo_input[7] == '95+':\n",
    "        u_avg = 97.5\n",
    "    else:\n",
    "        u_avg = (int(demo_input[7].split(\"-\")[0]) + int(demo_input[7].split(\"-\")[1]))/2\n",
    "    # do same for high school \n",
    "    if demo_input[8] == '<50':\n",
    "        h_avg = 50\n",
    "    elif demo_input[8] == '95+':\n",
    "        h_avg = 97.5\n",
    "    else:\n",
    "        h_avg = (int(demo_input[8].split(\"-\")[0]) + int(demo_input[8].split(\"-\")[1]))/2\n",
    "        \n",
    "    # of terms is the years multiplied by 2\n",
    "    no_acad_terms = demo_input[9] * 2\n",
    "    gen_ind = demo_input[10]\n",
    "    stem_ind = demo_input[11]\n",
    "\n",
    "    # lookup the average grade of that program, for the expected average\n",
    "    exp_u_avg = pd.merge(pd.DataFrame(demo_input).transpose(), grades_lookup, 'inner',\n",
    "                     left_on = 1, right_on = 'acad_plan_descr')['course_average_grade5'][0]\n",
    "    #divide user average by expected average to get ratio\n",
    "    \n",
    "    c_avg_r = u_avg / exp_u_avg\n",
    "\n",
    "    #elective equal to cor for simplicity\n",
    "    e_avg_r = c_avg_r\n",
    "    \n",
    "    #take average high school to uni ratio\n",
    "    avg_u_diff = 1.0238821823443678\n",
    "\n",
    "    #apply to hs average \n",
    "    h_avg_r = c_avg_r * avg_u_diff\n",
    "    \n",
    "    #create list\n",
    "    demo_input_clean.extend([year, std_no, adj_ann_salary_hrlyfirst, adj_ann_salary_hrlylast, perf_eval_convfirst, perf_eval_convlast, no_terms,\n",
    "                             stud_eval_convfirst, stud_eval_convlast, c_avg_r, e_avg_r, no_acad_terms, h_avg_r, gen_ind, stem_ind])\n",
    "\n",
    "    return demo_input_clean, std_no"
   ]
  },
  {
   "cell_type": "code",
   "execution_count": 33,
   "metadata": {},
   "outputs": [
    {
     "data": {
      "text/plain": [
       "[1974, nan, '30+', '21-25', '0-5', '0-5', 5.0, '60-64', '60-64', 4.0, 0.0, 0.0]"
      ]
     },
     "execution_count": 33,
     "metadata": {},
     "output_type": "execute_result"
    }
   ],
   "source": [
    "demo_input"
   ]
  },
  {
   "cell_type": "code",
   "execution_count": 32,
   "metadata": {},
   "outputs": [
    {
     "ename": "IndexError",
     "evalue": "index out of bounds",
     "output_type": "error",
     "traceback": [
      "\u001b[1;31m---------------------------------------------------------------------------\u001b[0m",
      "\u001b[1;31mKeyError\u001b[0m                                  Traceback (most recent call last)",
      "\u001b[1;32m~\\AppData\\Local\\Continuum\\anaconda3\\lib\\site-packages\\pandas\\core\\indexes\\base.py\u001b[0m in \u001b[0;36mget_value\u001b[1;34m(self, series, key)\u001b[0m\n\u001b[0;32m   3117\u001b[0m             return self._engine.get_value(s, k,\n\u001b[1;32m-> 3118\u001b[1;33m                                           tz=getattr(series.dtype, 'tz', None))\n\u001b[0m\u001b[0;32m   3119\u001b[0m         \u001b[1;32mexcept\u001b[0m \u001b[0mKeyError\u001b[0m \u001b[1;32mas\u001b[0m \u001b[0me1\u001b[0m\u001b[1;33m:\u001b[0m\u001b[1;33m\u001b[0m\u001b[1;33m\u001b[0m\u001b[0m\n",
      "\u001b[1;32mpandas\\_libs\\index.pyx\u001b[0m in \u001b[0;36mpandas._libs.index.IndexEngine.get_value\u001b[1;34m()\u001b[0m\n",
      "\u001b[1;32mpandas\\_libs\\index.pyx\u001b[0m in \u001b[0;36mpandas._libs.index.IndexEngine.get_value\u001b[1;34m()\u001b[0m\n",
      "\u001b[1;32mpandas\\_libs\\index.pyx\u001b[0m in \u001b[0;36mpandas._libs.index.IndexEngine.get_loc\u001b[1;34m()\u001b[0m\n",
      "\u001b[1;32mpandas\\_libs\\hashtable_class_helper.pxi\u001b[0m in \u001b[0;36mpandas._libs.hashtable.PyObjectHashTable.get_item\u001b[1;34m()\u001b[0m\n",
      "\u001b[1;32mpandas\\_libs\\hashtable_class_helper.pxi\u001b[0m in \u001b[0;36mpandas._libs.hashtable.PyObjectHashTable.get_item\u001b[1;34m()\u001b[0m\n",
      "\u001b[1;31mKeyError\u001b[0m: 0",
      "\nDuring handling of the above exception, another exception occurred:\n",
      "\u001b[1;31mIndexError\u001b[0m                                Traceback (most recent call last)",
      "\u001b[1;32m<ipython-input-32-3b3da7a695a2>\u001b[0m in \u001b[0;36m<module>\u001b[1;34m\u001b[0m\n\u001b[1;32m----> 1\u001b[1;33m \u001b[0mdemo_input_clean\u001b[0m\u001b[1;33m,\u001b[0m \u001b[0mstd_no\u001b[0m \u001b[1;33m=\u001b[0m \u001b[0mvalues_convert\u001b[0m\u001b[1;33m(\u001b[0m\u001b[0mdemo_input\u001b[0m\u001b[1;33m)\u001b[0m\u001b[1;33m\u001b[0m\u001b[1;33m\u001b[0m\u001b[0m\n\u001b[0m",
      "\u001b[1;32m<ipython-input-31-cc1a2d0b7d67>\u001b[0m in \u001b[0;36mvalues_convert\u001b[1;34m(demo_input)\u001b[0m\n\u001b[0;32m     58\u001b[0m     \u001b[1;31m# lookup the average grade of that program, for the expected average\u001b[0m\u001b[1;33m\u001b[0m\u001b[1;33m\u001b[0m\u001b[1;33m\u001b[0m\u001b[0m\n\u001b[0;32m     59\u001b[0m     exp_u_avg = pd.merge(pd.DataFrame(demo_input).transpose(), grades_lookup, 'inner',\n\u001b[1;32m---> 60\u001b[1;33m                      left_on = 1, right_on = 'acad_plan_descr')['course_average_grade5'][0]\n\u001b[0m\u001b[0;32m     61\u001b[0m     \u001b[1;31m#divide user average by expected average to get ratio\u001b[0m\u001b[1;33m\u001b[0m\u001b[1;33m\u001b[0m\u001b[1;33m\u001b[0m\u001b[0m\n\u001b[0;32m     62\u001b[0m \u001b[1;33m\u001b[0m\u001b[0m\n",
      "\u001b[1;32m~\\AppData\\Local\\Continuum\\anaconda3\\lib\\site-packages\\pandas\\core\\series.py\u001b[0m in \u001b[0;36m__getitem__\u001b[1;34m(self, key)\u001b[0m\n\u001b[0;32m    765\u001b[0m         \u001b[0mkey\u001b[0m \u001b[1;33m=\u001b[0m \u001b[0mcom\u001b[0m\u001b[1;33m.\u001b[0m\u001b[0m_apply_if_callable\u001b[0m\u001b[1;33m(\u001b[0m\u001b[0mkey\u001b[0m\u001b[1;33m,\u001b[0m \u001b[0mself\u001b[0m\u001b[1;33m)\u001b[0m\u001b[1;33m\u001b[0m\u001b[1;33m\u001b[0m\u001b[0m\n\u001b[0;32m    766\u001b[0m         \u001b[1;32mtry\u001b[0m\u001b[1;33m:\u001b[0m\u001b[1;33m\u001b[0m\u001b[1;33m\u001b[0m\u001b[0m\n\u001b[1;32m--> 767\u001b[1;33m             \u001b[0mresult\u001b[0m \u001b[1;33m=\u001b[0m \u001b[0mself\u001b[0m\u001b[1;33m.\u001b[0m\u001b[0mindex\u001b[0m\u001b[1;33m.\u001b[0m\u001b[0mget_value\u001b[0m\u001b[1;33m(\u001b[0m\u001b[0mself\u001b[0m\u001b[1;33m,\u001b[0m \u001b[0mkey\u001b[0m\u001b[1;33m)\u001b[0m\u001b[1;33m\u001b[0m\u001b[1;33m\u001b[0m\u001b[0m\n\u001b[0m\u001b[0;32m    768\u001b[0m \u001b[1;33m\u001b[0m\u001b[0m\n\u001b[0;32m    769\u001b[0m             \u001b[1;32mif\u001b[0m \u001b[1;32mnot\u001b[0m \u001b[0mis_scalar\u001b[0m\u001b[1;33m(\u001b[0m\u001b[0mresult\u001b[0m\u001b[1;33m)\u001b[0m\u001b[1;33m:\u001b[0m\u001b[1;33m\u001b[0m\u001b[1;33m\u001b[0m\u001b[0m\n",
      "\u001b[1;32m~\\AppData\\Local\\Continuum\\anaconda3\\lib\\site-packages\\pandas\\core\\indexes\\base.py\u001b[0m in \u001b[0;36mget_value\u001b[1;34m(self, series, key)\u001b[0m\n\u001b[0;32m   3122\u001b[0m \u001b[1;33m\u001b[0m\u001b[0m\n\u001b[0;32m   3123\u001b[0m             \u001b[1;32mtry\u001b[0m\u001b[1;33m:\u001b[0m\u001b[1;33m\u001b[0m\u001b[1;33m\u001b[0m\u001b[0m\n\u001b[1;32m-> 3124\u001b[1;33m                 \u001b[1;32mreturn\u001b[0m \u001b[0mlibindex\u001b[0m\u001b[1;33m.\u001b[0m\u001b[0mget_value_box\u001b[0m\u001b[1;33m(\u001b[0m\u001b[0ms\u001b[0m\u001b[1;33m,\u001b[0m \u001b[0mkey\u001b[0m\u001b[1;33m)\u001b[0m\u001b[1;33m\u001b[0m\u001b[1;33m\u001b[0m\u001b[0m\n\u001b[0m\u001b[0;32m   3125\u001b[0m             \u001b[1;32mexcept\u001b[0m \u001b[0mIndexError\u001b[0m\u001b[1;33m:\u001b[0m\u001b[1;33m\u001b[0m\u001b[1;33m\u001b[0m\u001b[0m\n\u001b[0;32m   3126\u001b[0m                 \u001b[1;32mraise\u001b[0m\u001b[1;33m\u001b[0m\u001b[1;33m\u001b[0m\u001b[0m\n",
      "\u001b[1;32mpandas\\_libs\\index.pyx\u001b[0m in \u001b[0;36mpandas._libs.index.get_value_box\u001b[1;34m()\u001b[0m\n",
      "\u001b[1;32mpandas\\_libs\\index.pyx\u001b[0m in \u001b[0;36mpandas._libs.index.get_value_box\u001b[1;34m()\u001b[0m\n",
      "\u001b[1;31mIndexError\u001b[0m: index out of bounds"
     ]
    }
   ],
   "source": [
    "demo_input_clean, std_no = values_convert(demo_input)"
   ]
  },
  {
   "cell_type": "code",
   "execution_count": 18,
   "metadata": {},
   "outputs": [],
   "source": [
    "#function takes clean input, and converts to final dataframe \n",
    "def cluster_input_convert(demo_input_clean):\n",
    "    demo_list = ['calendar_year','STUDENT_KEY','adj_ann_salary_hrlyfirst',\n",
    "                 'adj_ann_salary_hrlylast','perf_eval_convfirst','perf_eval_convlast',\n",
    "         'Uw Co Job Eval Stufirst',\n",
    "         'Uw Co Job Eval Stulast',\n",
    "         'Uw Co Wt Session',\n",
    "         'Core_Average',\n",
    "         'Elective_Average',\n",
    "         'Academic_Terms',\n",
    "         'Entrace_Average_Ratio',\n",
    "         'Female_Ind', 'STEM_Ind']\n",
    "\n",
    "    demo_df = pd.DataFrame(demo_input_clean).transpose()\n",
    "    demo_df.columns = demo_list           \n",
    "    return demo_df "
   ]
  },
  {
   "cell_type": "code",
   "execution_count": 19,
   "metadata": {},
   "outputs": [],
   "source": [
    "demo_df = cluster_input_convert(demo_input_clean)"
   ]
  },
  {
   "cell_type": "code",
   "execution_count": 22,
   "metadata": {},
   "outputs": [
    {
     "data": {
      "text/plain": [
       "[1974,\n",
       " 'Accounting & Financial Mgt',\n",
       " '30+',\n",
       " '21-25',\n",
       " '0-5',\n",
       " '0-5',\n",
       " 5.0,\n",
       " '60-64',\n",
       " '60-64',\n",
       " 4.0,\n",
       " 0.0,\n",
       " 0.0]"
      ]
     },
     "execution_count": 22,
     "metadata": {},
     "output_type": "execute_result"
    }
   ],
   "source": [
    "demo_input"
   ]
  },
  {
   "cell_type": "code",
   "execution_count": 54,
   "metadata": {},
   "outputs": [],
   "source": [
    "def salary_adj(demo_df):\n",
    "    demo_df = pd.merge(demo_df, CPI, 'inner', 'calendar_year')\n",
    "    demo_df['adj_ann_salary_hrlyfirst'] = (demo_df['adj_ann_salary_hrlyfirst'] * 133.4) /demo_df['CPI']\n",
    "    demo_df['adj_ann_salary_hrlylast'] = (demo_df['adj_ann_salary_hrlylast'] * 133.4) /demo_df['CPI']\n",
    "    demo_df_adj = demo_df.drop(['calendar_year', 'CPI'], axis = 1)\n",
    "    return demo_df_adj"
   ]
  },
  {
   "cell_type": "code",
   "execution_count": 55,
   "metadata": {},
   "outputs": [],
   "source": [
    "demo_df_adj = salary_adj(demo_df)"
   ]
  },
  {
   "cell_type": "code",
   "execution_count": 56,
   "metadata": {},
   "outputs": [],
   "source": [
    "def final_list(demo_df_adj):\n",
    "    demo_nokey = demo_df_adj.drop(\"STUDENT_KEY\", axis =1)\n",
    "    examples = []\n",
    "    for col in list(demo_nokey):\n",
    "        for value in demo_nokey[col]:\n",
    "            examples.append(value)   \n",
    "            \n",
    "    return examples\n"
   ]
  },
  {
   "cell_type": "code",
   "execution_count": 57,
   "metadata": {},
   "outputs": [],
   "source": [
    "demo_nokey = demo_df_adj.drop(\"STUDENT_KEY\", axis =1)\n",
    "examples = []\n",
    "for col in list(demo_nokey):\n",
    "    for value in demo_nokey[col]:\n",
    "        examples.append(value)"
   ]
  },
  {
   "cell_type": "code",
   "execution_count": 58,
   "metadata": {},
   "outputs": [],
   "source": [
    "def scale(examples):\n",
    "    scaled = []\n",
    "    for i in range(len(examples)):\n",
    "        scale = (examples[i] - feat_mean[i])/(feat_sd[i])\n",
    "        scaled.append(scale)\n",
    "    scaled = np.array(scaled)\n",
    "    scaled = pd.DataFrame(scaled).transpose()\n",
    "    \n",
    "    return scaled"
   ]
  },
  {
   "cell_type": "code",
   "execution_count": 59,
   "metadata": {},
   "outputs": [],
   "source": [
    "examples = final_list(demo_df_adj)"
   ]
  },
  {
   "cell_type": "code",
   "execution_count": 60,
   "metadata": {},
   "outputs": [],
   "source": [
    "scaled = scale(examples)"
   ]
  },
  {
   "cell_type": "code",
   "execution_count": 61,
   "metadata": {},
   "outputs": [],
   "source": [
    "def result(scaled):\n",
    "    distances = np.column_stack([np.sum((scaled - center)**2, axis=1)**0.5 for center in scaled_centroids])\n",
    "    i = distances.argmin()\n",
    "    \n",
    "    clust_list = ['The Gold Standards', 'The High Potentials', 'The Experience Seekers' ,'The Intrinsic Go Getters', 'The Participators','The Low Performers']\n",
    "    num_list = [4,1,5,0,2,3]\n",
    "    final = clust_list[i]\n",
    "    return final\n"
   ]
  },
  {
   "cell_type": "code",
   "execution_count": 62,
   "metadata": {},
   "outputs": [],
   "source": [
    "def master(demo_raw):\n",
    "    demo_lookup, grades_lookup, demo_lookup, CPI, loaded_model, scaled_centroids, feat_mean, feat_sd = import_tables()\n",
    "    demo_input = input_convert(demo_raw)\n",
    "    demo_input_clean, std_no = values_convert(demo_input)\n",
    "    demo_df = cluster_input_convert(demo_input_clean)\n",
    "    demo_df_adj = salary_adj(demo_df)\n",
    "    examples = final_list(demo_df_adj)\n",
    "    scaled = scale(examples)\n",
    "    output = result(scaled)\n",
    "    \n",
    "    return output"
   ]
  },
  {
   "cell_type": "code",
   "execution_count": 63,
   "metadata": {},
   "outputs": [
    {
     "data": {
      "text/plain": [
       "'The Participators'"
      ]
     },
     "execution_count": 63,
     "metadata": {},
     "output_type": "execute_result"
    }
   ],
   "source": [
    "master(demo_raw)"
   ]
  },
  {
   "cell_type": "code",
   "execution_count": null,
   "metadata": {},
   "outputs": [],
   "source": []
  }
 ],
 "metadata": {
  "kernelspec": {
   "display_name": "Python 3",
   "language": "python",
   "name": "python3"
  },
  "language_info": {
   "codemirror_mode": {
    "name": "ipython",
    "version": 3
   },
   "file_extension": ".py",
   "mimetype": "text/x-python",
   "name": "python",
   "nbconvert_exporter": "python",
   "pygments_lexer": "ipython3",
   "version": "3.7.1"
  }
 },
 "nbformat": 4,
 "nbformat_minor": 2
}
